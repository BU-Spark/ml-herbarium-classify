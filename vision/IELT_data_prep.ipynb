{
 "cells": [
  {
   "cell_type": "markdown",
   "id": "377dbd0f",
   "metadata": {},
   "source": [
    "## Attempt to convert the downloaded images according to the requirements of the IELT Model for the secondary task. It requires each type of genus to have it's own folder. So we are taking the images mapping it to it's corresponding label from labels.txt and creating a single folder for each genus."
   ]
  },
  {
   "cell_type": "code",
   "execution_count": 4,
   "id": "548c5151",
   "metadata": {},
   "outputs": [
    {
     "name": "stdout",
     "output_type": "stream",
     "text": [
      "All images have been renamed successfully!\n"
     ]
    }
   ],
   "source": [
    "import os\n",
    "\n",
    "image_folder = \"/projectnb/sparkgrp/ml-herbarium-grp/ml-herbarium-data-spring2023/secondary_task/training_data/20230402-114028\"\n",
    "\n",
    "# Open the text file and read the labels into a list\n",
    "with open('training_data/genus.txt', 'r') as f:\n",
    "    labels = [line.strip() for line in f.readlines()]\n",
    "\n",
    "# Create a dictionary to store the count for each label\n",
    "label_counts = {}\n",
    "\n",
    "# Rename the images\n",
    "for i, file_name in enumerate(sorted(os.listdir(image_folder), key=lambda x: int(x.split('.')[0]))):\n",
    "    # Get the label for the current image\n",
    "    label = labels[i]\n",
    "    # Ignore case when checking for duplicates\n",
    "    label = label.lower()\n",
    "    # If this is the first image with this label, set the count to 1\n",
    "    if label not in label_counts:\n",
    "        label_counts[label] = 1\n",
    "        # Create a new folder for this label\n",
    "        os.makedirs(os.path.join(image_folder, label))\n",
    "    else:\n",
    "        # Increment the count for this label\n",
    "        label_counts[label] += 1\n",
    "    # Get the extension for the current image\n",
    "    extension = os.path.splitext(file_name)[1]\n",
    "    # Construct the new file name\n",
    "    new_file_name = label + \"_\" + str(label_counts[label]) + extension\n",
    "    # Move the file to the new folder with the new file name\n",
    "    old_path = os.path.join(image_folder, file_name)\n",
    "    new_path = os.path.join(image_folder, label, new_file_name)\n",
    "    try:\n",
    "        os.rename(old_path, new_path)\n",
    "    except Exception as e:\n",
    "        print(f\"Error renaming {file_name}: {e}\")\n",
    "\n",
    "print(\"All images have been renamed successfully!\")"
   ]
  },
  {
   "cell_type": "markdown",
   "id": "e48c0303",
   "metadata": {},
   "source": [
    "## According to our initial observations we need all the folders to be zipped into a .tgz\n",
    "# !! NOTE: THIS WAS A PRELIMINARY ATTEMPT, THE MODEL HAS NOT BEEN SETUP TO USE!!\n",
    "# ACCORDING TO OUR USECASE THE IELT MODEL LOOKED LIKE THE BEST FIT BUT FURTHER RESEARCH ON A BETTER MODEL WOULD BE BETTER A"
   ]
  },
  {
   "cell_type": "code",
   "execution_count": null,
   "id": "0cda9ff4",
   "metadata": {},
   "outputs": [],
   "source": [
    "# specify the source directory containing the folders to be converted\n",
    "\n",
    "import tarfile\n",
    "import shutil\n",
    "import os\n",
    "\n",
    "def make_tgz(source_dir, output_filename):\n",
    "    with tarfile.open(output_filename, \"w:gz\") as tar:\n",
    "        for folder_name in os.listdir(source_dir):\n",
    "            folder_path = os.path.join(source_dir, folder_name)\n",
    "            tar.add(folder_path, arcname=folder_name)\n",
    "            shutil.rmtree(folder_path)\n",
    "\n",
    "# specify the source directory containing the folders to be converted\n",
    "source_dir = '/projectnb/sparkgrp/ml-herbarium-grp/ml-herbarium-data-spring2023/secondary_task/training_data/20230402-114028/'\n",
    "\n",
    "# create the output filename for the tgz file\n",
    "output_filename = 'output.tgz'\n",
    "\n",
    "# create the tgz file\n",
    "make_tgz(source_dir, output_filename)"
   ]
  },
  {
   "cell_type": "code",
   "execution_count": null,
   "id": "81925068",
   "metadata": {},
   "outputs": [],
   "source": []
  }
 ],
 "metadata": {
  "kernelspec": {
   "display_name": "Python 3",
   "language": "python",
   "name": "python3"
  },
  "language_info": {
   "codemirror_mode": {
    "name": "ipython",
    "version": 3
   },
   "file_extension": ".py",
   "mimetype": "text/x-python",
   "name": "python",
   "nbconvert_exporter": "python",
   "pygments_lexer": "ipython3",
   "version": "3.8.10"
  }
 },
 "nbformat": 4,
 "nbformat_minor": 5
}
